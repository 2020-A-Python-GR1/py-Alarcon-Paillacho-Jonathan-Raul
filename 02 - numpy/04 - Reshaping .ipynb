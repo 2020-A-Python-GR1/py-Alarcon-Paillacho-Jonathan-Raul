{
 "cells": [
  {
   "cell_type": "code",
   "execution_count": 1,
   "metadata": {},
   "outputs": [],
   "source": [
    "#Clase 04/07/2020\n",
    "import numpy as np"
   ]
  },
  {
   "cell_type": "code",
   "execution_count": 2,
   "metadata": {},
   "outputs": [],
   "source": [
    "paises_uno = ('Ecuador','USA','Cuba','Colombia')\n",
    "paises_dos = ('Brazil','China','Japon','Mexico')"
   ]
  },
  {
   "cell_type": "code",
   "execution_count": 4,
   "metadata": {},
   "outputs": [
    {
     "data": {
      "text/plain": [
       "array([['Ecuador', 'USA', 'Cuba', 'Colombia'],\n",
       "       ['Brazil', 'China', 'Japon', 'Mexico']], dtype='<U8')"
      ]
     },
     "execution_count": 4,
     "metadata": {},
     "output_type": "execute_result"
    }
   ],
   "source": [
    "paises_2d = np.array([paises_uno,paises_dos])\n",
    "paises_2d\n",
    "#El dtype nos indica el máximo de caracteres que se tiene"
   ]
  },
  {
   "cell_type": "code",
   "execution_count": 5,
   "metadata": {},
   "outputs": [
    {
     "data": {
      "text/plain": [
       "array(['Ecuador', 'USA', 'Cuba', 'Colombia', 'Brazil', 'China', 'Japon',\n",
       "       'Mexico'], dtype='<U8')"
      ]
     },
     "execution_count": 5,
     "metadata": {},
     "output_type": "execute_result"
    }
   ],
   "source": [
    "paises_2d.flatten()\n",
    "#Nos permite hacer un arreglo normal"
   ]
  },
  {
   "cell_type": "code",
   "execution_count": 6,
   "metadata": {},
   "outputs": [
    {
     "data": {
      "text/plain": [
       "array([[['Ecuador', 'USA'],\n",
       "        ['Cuba', 'Colombia']],\n",
       "\n",
       "       [['Brazil', 'China'],\n",
       "        ['Japon', 'Mexico']]], dtype='<U8')"
      ]
     },
     "execution_count": 6,
     "metadata": {},
     "output_type": "execute_result"
    }
   ],
   "source": [
    "paises_2d.flatten().reshape(2,2,2)"
   ]
  },
  {
   "cell_type": "code",
   "execution_count": 7,
   "metadata": {},
   "outputs": [
    {
     "data": {
      "text/plain": [
       "array([['Ecuador', 'USA', 'Cuba', 'Colombia'],\n",
       "       ['Brazil', 'China', 'Japon', 'Mexico']], dtype='<U8')"
      ]
     },
     "execution_count": 7,
     "metadata": {},
     "output_type": "execute_result"
    }
   ],
   "source": [
    "paises_2d.flatten().reshape(\n",
    "    -1, #Llename con lo que puedas -> en este caso se llenaría con (2)\n",
    "    4\n",
    ")"
   ]
  },
  {
   "cell_type": "code",
   "execution_count": null,
   "metadata": {},
   "outputs": [],
   "source": [
    "paises_2d.flatten().reshape(\n",
    "    2, #No sobrepasar los limites de las dimensiones que se puede tener \n",
    "    2,\n",
    "    -1 #Solo un \"-1\" dentro del RESHAPE\n",
    ")"
   ]
  },
  {
   "cell_type": "code",
   "execution_count": 11,
   "metadata": {},
   "outputs": [
    {
     "name": "stdout",
     "output_type": "stream",
     "text": [
      "[['Ecuador' 'USA' 'Cuba' 'Colombia']\n",
      " ['Brazil' 'China' 'Japon' 'Mexico']]\n",
      "(2, 4)\n",
      "[['Ecuador' 'Brazil']\n",
      " ['USA' 'China']\n",
      " ['Cuba' 'Japon']\n",
      " ['Colombia' 'Mexico']]\n",
      "(4, 2)\n"
     ]
    }
   ],
   "source": [
    "print(paises_2d)\n",
    "print(paises_2d.shape)\n",
    "print(paises_2d.T) # Nos permite sacar la transpuesta\n",
    "print(paises_2d.T.shape) # nos permite sacar la transpuesta y las dimensiones "
   ]
  },
  {
   "cell_type": "code",
   "execution_count": 15,
   "metadata": {},
   "outputs": [
    {
     "data": {
      "text/plain": [
       "[array(['Ecuador'], dtype='<U8'),\n",
       " array(['USA'], dtype='<U8'),\n",
       " array(['Cuba'], dtype='<U8'),\n",
       " array(['Colombia'], dtype='<U8'),\n",
       " array(['Brazil'], dtype='<U8'),\n",
       " array(['China'], dtype='<U8'),\n",
       " array(['Japon'], dtype='<U8'),\n",
       " array(['Mexico'], dtype='<U8')]"
      ]
     },
     "execution_count": 15,
     "metadata": {},
     "output_type": "execute_result"
    }
   ],
   "source": [
    "#np.split(paises_2d,2) #Nos devuelve una lista\n",
    "#np.split(paises_2d.flatten(),4)\n",
    "np.split(paises_2d.flatten(),8)"
   ]
  },
  {
   "cell_type": "code",
   "execution_count": 13,
   "metadata": {},
   "outputs": [
    {
     "data": {
      "text/plain": [
       "[array(['Ecuador'], dtype='<U8'),\n",
       " array(['USA', 'Cuba'], dtype='<U8'),\n",
       " array(['Colombia', 'Brazil', 'China', 'Japon', 'Mexico'], dtype='<U8')]"
      ]
     },
     "execution_count": 13,
     "metadata": {},
     "output_type": "execute_result"
    }
   ],
   "source": [
    "np.split(paises_2d.flatten(),\n",
    "         [\n",
    "             1, # [0,1[\n",
    "             3  # [1,3[\n",
    "             #Guardan al final [3,7[\n",
    "         ])"
   ]
  },
  {
   "cell_type": "code",
   "execution_count": 17,
   "metadata": {},
   "outputs": [
    {
     "data": {
      "text/plain": [
       "array(['Ecuador', 'USA'], dtype='<U8')"
      ]
     },
     "execution_count": 17,
     "metadata": {},
     "output_type": "execute_result"
    }
   ],
   "source": [
    "# Para guardar en diferentes tipos de variables \n",
    "arr1,arr2,arr3,arr4 = np.split(paises_2d.flatten(),4)\n",
    "arr1"
   ]
  },
  {
   "cell_type": "code",
   "execution_count": 22,
   "metadata": {},
   "outputs": [
    {
     "name": "stdout",
     "output_type": "stream",
     "text": [
      "[array([['Ecuador', 'USA'],\n",
      "       ['Brazil', 'China']], dtype='<U8'), array([['Cuba', 'Colombia'],\n",
      "       ['Japon', 'Mexico']], dtype='<U8')]\n",
      "[array([['Ecuador', 'USA', 'Cuba', 'Colombia']], dtype='<U8'), array([['Brazil', 'China', 'Japon', 'Mexico']], dtype='<U8')]\n",
      "[array([['Ecuador', 'USA', 'Cuba', 'Colombia']], dtype='<U8'), array([['Brazil', 'China', 'Japon', 'Mexico']], dtype='<U8')]\n"
     ]
    }
   ],
   "source": [
    "#print(paises_2d)\n",
    "print(np.hsplit(paises_2d,2)) #eje 1\n",
    "print(np.vsplit(paises_2d,2)) #eje 0\n",
    "print(np.split(paises_2d,2))"
   ]
  },
  {
   "cell_type": "code",
   "execution_count": null,
   "metadata": {},
   "outputs": [],
   "source": []
  },
  {
   "cell_type": "code",
   "execution_count": null,
   "metadata": {},
   "outputs": [],
   "source": []
  },
  {
   "cell_type": "code",
   "execution_count": null,
   "metadata": {},
   "outputs": [],
   "source": []
  },
  {
   "cell_type": "code",
   "execution_count": null,
   "metadata": {},
   "outputs": [],
   "source": []
  },
  {
   "cell_type": "code",
   "execution_count": null,
   "metadata": {},
   "outputs": [],
   "source": []
  }
 ],
 "metadata": {
  "kernelspec": {
   "display_name": "Python 3",
   "language": "python",
   "name": "python3"
  },
  "language_info": {
   "codemirror_mode": {
    "name": "ipython",
    "version": 3
   },
   "file_extension": ".py",
   "mimetype": "text/x-python",
   "name": "python",
   "nbconvert_exporter": "python",
   "pygments_lexer": "ipython3",
   "version": "3.7.6"
  }
 },
 "nbformat": 4,
 "nbformat_minor": 4
}
