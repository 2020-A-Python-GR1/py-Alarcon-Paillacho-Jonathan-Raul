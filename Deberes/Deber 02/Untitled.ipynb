{
 "cells": [
  {
   "cell_type": "code",
   "execution_count": 5,
   "metadata": {},
   "outputs": [],
   "source": [
    "from tkinter import *\n",
    "from tkinter import ttk\n",
    "ttk.Button\n",
    "ttk.Entry\n",
    "ttk.OptionMenu\n",
    "from PIL import Image,ImageTk\n",
    "import random\n",
    "import os"
   ]
  },
  {
   "cell_type": "code",
   "execution_count": 9,
   "metadata": {},
   "outputs": [],
   "source": [
    "class Main():\n",
    "    def __init__(self,parent):\n",
    "        self.parent = parent\n",
    "        \n",
    "        self.image = StringVar()\n",
    "        self.grid = IntVar()\n",
    "        \n",
    "        self.createWidgets()\n",
    "        \n",
    "    def createWidgets(self):\n",
    "        self.mainFrame = Frame(self.parent)\n",
    "        Label(self.mainFrame,text = 'Rompecabezas',font = ('',50)).pack(padx = 10, pady = 10)\n",
    "        frame = Frame(self.mainFrame)\n",
    "        Label(frame,text = 'Imagen').grid(sticky = W)\n",
    "        Entry(frame,textvariable = self.image, width = 50).grid(row = 0, column = 1, padx = 10, pady = 10)\n",
    "        Label(frame,text = 'Division').grid(sticky = W)\n",
    "        OptionMenu(frame,self.grid,*[3,4,5,6,7,8,9,10]).grid(row = 10, column = 1, padx = 10, pady = 10)\n",
    "        frame.pack()\n",
    "        self.board = Frame(self.parent)\n",
    "        self.winFrame = Frame(self.parent)\n",
    "        \n",
    "        \n",
    "\n",
    "if __name__ ==\"__main__\":\n",
    "    root = Tk()\n",
    "    Main(root)\n",
    "    root.mainloop()"
   ]
  },
  {
   "cell_type": "code",
   "execution_count": null,
   "metadata": {},
   "outputs": [],
   "source": []
  }
 ],
 "metadata": {
  "kernelspec": {
   "display_name": "Python 3",
   "language": "python",
   "name": "python3"
  },
  "language_info": {
   "codemirror_mode": {
    "name": "ipython",
    "version": 3
   },
   "file_extension": ".py",
   "mimetype": "text/x-python",
   "name": "python",
   "nbconvert_exporter": "python",
   "pygments_lexer": "ipython3",
   "version": "3.7.6"
  }
 },
 "nbformat": 4,
 "nbformat_minor": 4
}
