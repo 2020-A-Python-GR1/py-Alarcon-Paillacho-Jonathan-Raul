{
 "cells": [
  {
   "cell_type": "code",
   "execution_count": 44,
   "metadata": {},
   "outputs": [
    {
     "name": "stdout",
     "output_type": "stream",
     "text": [
      "¿Qué desea gestionar?\n",
      "1. Farmacia\n",
      "2. Medicamento\n",
      "Elija una opción -> 1\n",
      "<class 'int'>\n",
      "Entra en el if\n",
      "El usuario ingresó a la primera opción\n",
      "1\n"
     ]
    }
   ],
   "source": [
    "#Menú\n",
    "\n",
    "def programa():\n",
    "    \n",
    "    def menu_inicial():\n",
    "        print(\"¿Qué desea gestionar?\")\n",
    "        print(\"1. Farmacia\")\n",
    "        print(\"2. Medicamento\")\n",
    "        eleccion = int(input(\"Elija una opción -> \"))\n",
    "        print(type(eleccion))\n",
    "        if eleccion == 1:\n",
    "            \n",
    "            print(\"Entra en el if\")\n",
    "            farmacia()\n",
    "        else:\n",
    "            print(\"Entra en el if\")\n",
    "         #   medicamento()\n",
    "        \n",
    "        return eleccion\n",
    "    \n",
    "    def farmacia():\n",
    "        print(\"El usuario ingresó a la primera opción\")\n",
    "    \n",
    "    #def medicamento():\n",
    "     #   print(\"El usuario ingresó a la segunda opción\")\n",
    "    \n",
    "    return menu_inicial()\n",
    "\n",
    "capturar_eleccion = programa()\n",
    "print(capturar_eleccion)"
   ]
  },
  {
   "cell_type": "code",
   "execution_count": null,
   "metadata": {},
   "outputs": [],
   "source": [
    "class Farmacia:\n",
    "    nombre_farmacia\n",
    "    telefono\n",
    "    capacidad_medicamentos\n",
    "    compra_minima\n",
    "    def __init__(self):\n",
    "        \n",
    "    #def crear_farmacia (self):\n",
    "        \n",
    "        "
   ]
  },
  {
   "cell_type": "code",
   "execution_count": null,
   "metadata": {},
   "outputs": [],
   "source": []
  },
  {
   "cell_type": "code",
   "execution_count": null,
   "metadata": {},
   "outputs": [],
   "source": []
  },
  {
   "cell_type": "code",
   "execution_count": null,
   "metadata": {},
   "outputs": [],
   "source": []
  }
 ],
 "metadata": {
  "kernelspec": {
   "display_name": "Python 3",
   "language": "python",
   "name": "python3"
  },
  "language_info": {
   "codemirror_mode": {
    "name": "ipython",
    "version": 3
   },
   "file_extension": ".py",
   "mimetype": "text/x-python",
   "name": "python",
   "nbconvert_exporter": "python",
   "pygments_lexer": "ipython3",
   "version": "3.7.6"
  }
 },
 "nbformat": 4,
 "nbformat_minor": 4
}
