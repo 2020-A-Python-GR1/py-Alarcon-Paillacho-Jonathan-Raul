{
 "cells": [
  {
   "cell_type": "code",
   "execution_count": 44,
   "metadata": {},
   "outputs": [
    {
     "name": "stdout",
     "output_type": "stream",
     "text": [
      "¿Qué desea gestionar?\n",
      "1. Farmacia\n",
      "2. Medicamento\n",
      "Elija una opción -> 1\n",
      "<class 'int'>\n",
      "Entra en el if\n",
      "El usuario ingresó a la primera opción\n",
      "1\n"
     ]
    }
   ],
   "source": [
    "#Menú\n",
    "\n",
    "def programa():\n",
    "    \n",
    "    def menu_inicial():\n",
    "        print(\"¿Qué desea gestionar?\")\n",
    "        print(\"1. Farmacia\")\n",
    "        print(\"2. Medicamento\")\n",
    "        eleccion = int(input(\"Elija una opción -> \"))\n",
    "        print(type(eleccion))\n",
    "        if eleccion == 1:\n",
    "            \n",
    "            print(\"Entra en el if\")\n",
    "            farmacia()\n",
    "        else:\n",
    "            print(\"Entra en el if\")\n",
    "         #   medicamento()\n",
    "        \n",
    "        return eleccion\n",
    "    \n",
    "    def farmacia():\n",
    "        print(\"El usuario ingresó a la primera opción\")\n",
    "    \n",
    "    #def medicamento():\n",
    "     #   print(\"El usuario ingresó a la segunda opción\")\n",
    "    \n",
    "    return menu_inicial()\n",
    "\n",
    "capturar_eleccion = programa()\n",
    "print(capturar_eleccion)"
   ]
  },
  {
   "cell_type": "code",
   "execution_count": 132,
   "metadata": {},
   "outputs": [
    {
     "name": "stdout",
     "output_type": "stream",
     "text": [
      "Entra al for\n",
      "Entra al for\n",
      "Entra al for\n",
      "Entra al for\n",
      "Entra al for\n",
      "Entra al for\n"
     ]
    },
    {
     "data": {
      "text/plain": [
       "{'nombre': [{'direccion': ' nombre'},\n",
       "  {'telefono': ' 123'},\n",
       "  {'compra': ' 123.5\\n'}],\n",
       " 'nombre2': [{'direccion': ' nombre2'},\n",
       "  {'telefono': ' 456'},\n",
       "  {'compra': ' 2.35\\n'}],\n",
       " 'nombre3': [{'direccion': ' nombre3'},\n",
       "  {'telefono': ' 789'},\n",
       "  {'compra': ' 35.12\\n'}],\n",
       " 'Economicas': [{'direccion': ' Ulloa y America'},\n",
       "  {'telefono': ' 2553699'},\n",
       "  {'compra': ' 0.12\\n'}],\n",
       " 'Medicity': [{'direccion': ' El Inca'},\n",
       "  {'telefono': ' 3215814'},\n",
       "  {'compra': ' 0.36\\n'}],\n",
       " 'Sana Sana': [{'direccion': ' America'},\n",
       "  {'telefono': ' 2553699'},\n",
       "  {'compra': ' 0.27\\n'}]}"
      ]
     },
     "execution_count": 132,
     "metadata": {},
     "output_type": "execute_result"
    }
   ],
   "source": [
    "def crear_farmacia():\n",
    "    nombre_far = input(\"Ingrese el nombre de la farmacia: \")\n",
    "    direccion_far = input(f\"Ingrese la dirección de la farmacia {nombre_far}: \")\n",
    "    telefono_far = input(f\"Ingrese el numero de telefono de la farmacia {nombre_far}: \")\n",
    "    compra_far = input(\"¿Cuánto es la mínima cantidad de compra? -> \")\n",
    "    horario_far = input(f\"\\n¿La farmacia {nombre_far} atiene las 24 horas? -> \")\n",
    "    if horario_far == \"Si\":\n",
    "        print(\"Entra en el if\")\n",
    "    else:\n",
    "        print(\"Entra en el else\")\n",
    "    \n",
    "    guardar_farmacia(nombre_far,direccion_far, telefono_far, compra_far, horario_far)\n",
    "    #ver_farmacias()\n",
    "    #eliminar_farmacia()\n",
    "\n",
    "#*******************************************************************************************\n",
    "    \n",
    "def guardar_farmacia(nombre, direccion, telefono, compra, horario):\n",
    "    try:\n",
    "        path = \"./farmacia.txt\"\n",
    "        archivo_abierto = open(path,'a')\n",
    "        archivo_abierto.write(f\"{nombre}, {direccion}, {telefono}, {compra}\\n\")\n",
    "        archivo_abierto.close()\n",
    "    except Exception as Error:\n",
    "        print(\"Error leyendo archivo\")\n",
    "        \n",
    "    #ver_farmacias()\n",
    "\n",
    "#*******************************************************************************************\n",
    "diccionario_farmacia_1 = {}\n",
    "\n",
    "def ver_farmacias():\n",
    "    try:\n",
    "        path = \"./farmacia.txt\"\n",
    "        archivo_abierto = open(path)\n",
    "        leer_farmacias = archivo_abierto.readlines()\n",
    "        for lineas in leer_farmacias:\n",
    "            print(\"Entra al for\")\n",
    "            almacenar = lineas.split(',')\n",
    "            diccionario_farmacia_2 = {\n",
    "                f\"{almacenar[0]}\" : \n",
    "                [{\"direccion\":f\"{almacenar[1]}\"},\n",
    "                 {\"telefono\":f\"{almacenar[2]}\"},\n",
    "                 {\"compra\":f\"{almacenar[3]}\"}]\n",
    "            }\n",
    "            diccionario_farmacia_1.update(diccionario_farmacia_2)\n",
    "        #print(diccionario_farmacia_1)\n",
    "        archivo_abierto.close()\n",
    "    except Exception as Error:\n",
    "        print(\"Error leyendo archivo\")\n",
    "\n",
    "        \n",
    "        \n",
    "def prueba_eliminar():\n",
    "    try:\n",
    "        path = \"./farmacia.txt\"\n",
    "        \n",
    "        archivo_abierto = open(path)\n",
    "        leer_farmacias = archivo_abierto.readlines()\n",
    "        leer_farmacias.remove(leer_farmacias[2])\n",
    "        print(leer_farmacias)\n",
    "        archivo_abierto.close()\n",
    "    except Exception as Error:\n",
    "        print(\"Error leyendo archivo\")        \n",
    "\n",
    "\n",
    "        \n",
    "        \n",
    "def eliminar_farmacia():\n",
    "    try:\n",
    "        path = \"./farmacia.txt\"\n",
    "        archivo_abierto = open(path)\n",
    "        contenido = archivo_abierto.readlines()\n",
    "        print(contenido[1].remove())\n",
    "        archivo_abierto.close()      \n",
    "    except Exception as Error:\n",
    "        print(\"Error abriendo el archivo1\")\n",
    "\n",
    "    try:\n",
    "        path = \"./farmacia.txt\"\n",
    "        archivo_nuevo = open(path, 'w')\n",
    "        for linea in contenido:\n",
    "            print(\"Entra al for\")\n",
    "            if linea != \"nombre2\"+\"\\n\":\n",
    "                contenido.write(linea)\n",
    "        archivo_nuevo.close()\n",
    "    except Exception as Error:\n",
    "        print(\"Error abriendo el archivo2\")\n",
    "        \n",
    "        \n",
    "#crear_farmacia()\n",
    "#eliminar_farmacia()\n",
    "#prueba_eliminar()\n",
    "ver_farmacias()\n",
    "diccionario_farmacia_1"
   ]
  },
  {
   "cell_type": "code",
   "execution_count": 108,
   "metadata": {},
   "outputs": [
    {
     "data": {
      "text/plain": [
       "[{'direccion': 'las casas'},\n",
       " {'direccion2': 'la gasca'},\n",
       " {'telefono': 456},\n",
       " {'compra': '125.5'}]"
      ]
     },
     "execution_count": 108,
     "metadata": {},
     "output_type": "execute_result"
    }
   ],
   "source": [
    "diccio = {\n",
    "    \"Medicity\": [{\"direccion\":\"las casas\"},{\"direccion\":\"las casas\"},{\"telefono\":132},{\"compra\":125.5}],\n",
    "    \"Sana Sana\": [{\"direccion\":\"las casas\"},{\"direccion2\":\"el inca\"},{\"telefono\":132},{\"compra\":\"125.5\"}],\n",
    "    \n",
    "}\n",
    "\n",
    "diccio['Sana Sana'][1]['direccion2'] = \"la gasca\"\n",
    "#print(type(diccio['Sana Sana']))\n",
    "diccio['Sana Sana'][2]['telefono'] = 456\n",
    "diccio['Sana Sana']"
   ]
  },
  {
   "cell_type": "code",
   "execution_count": null,
   "metadata": {},
   "outputs": [],
   "source": []
  },
  {
   "cell_type": "code",
   "execution_count": null,
   "metadata": {},
   "outputs": [],
   "source": []
  },
  {
   "cell_type": "code",
   "execution_count": null,
   "metadata": {},
   "outputs": [],
   "source": []
  },
  {
   "cell_type": "code",
   "execution_count": null,
   "metadata": {},
   "outputs": [],
   "source": []
  },
  {
   "cell_type": "code",
   "execution_count": null,
   "metadata": {},
   "outputs": [],
   "source": []
  },
  {
   "cell_type": "code",
   "execution_count": null,
   "metadata": {},
   "outputs": [],
   "source": []
  }
 ],
 "metadata": {
  "kernelspec": {
   "display_name": "Python 3",
   "language": "python",
   "name": "python3"
  },
  "language_info": {
   "codemirror_mode": {
    "name": "ipython",
    "version": 3
   },
   "file_extension": ".py",
   "mimetype": "text/x-python",
   "name": "python",
   "nbconvert_exporter": "python",
   "pygments_lexer": "ipython3",
   "version": "3.7.6"
  }
 },
 "nbformat": 4,
 "nbformat_minor": 4
}
