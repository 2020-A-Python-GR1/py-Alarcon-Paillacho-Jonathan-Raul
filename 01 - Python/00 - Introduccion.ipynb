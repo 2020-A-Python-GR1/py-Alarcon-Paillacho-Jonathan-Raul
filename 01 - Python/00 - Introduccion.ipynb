{
 "cells": [
  {
   "cell_type": "markdown",
   "metadata": {},
   "source": [
    "# H1\n",
    "#### H4\n",
    "![alt text](https://github.com/adam-p/markdown-here/raw/master/src/common/images/icon48.png \"Logo Title Text 1\")"
   ]
  },
  {
   "cell_type": "code",
   "execution_count": 1,
   "metadata": {},
   "outputs": [
    {
     "name": "stdout",
     "output_type": "stream",
     "text": [
      "Hola mundo\n"
     ]
    }
   ],
   "source": [
    "print (\"Hola mundo\")"
   ]
  },
  {
   "cell_type": "code",
   "execution_count": 3,
   "metadata": {},
   "outputs": [
    {
     "name": "stdout",
     "output_type": "stream",
     "text": [
      "<class 'int'>\n",
      "<class 'float'>\n",
      "<class 'str'>\n",
      "<class 'str'>\n",
      "<class 'str'>\n",
      "<class 'bool'>\n",
      "<class 'bool'>\n",
      "<class 'NoneType'>\n",
      "<class 'float'>\n"
     ]
    }
   ],
   "source": [
    "# no tipado\n",
    "# Variables Primitivas\n",
    "entero = 4\n",
    "decimales = 1.1\n",
    "nombre = \"Jonathan\"\n",
    "segundo_nombre = \"Raúl\" # segundoNombre X -> MAL - NUNCA PELIGRO jeje\n",
    "apellido = 'Alarcón'\n",
    "casado = False\n",
    "profesor = True\n",
    "hijos = None\n",
    "print(type(entero)) # int\n",
    "print(type(decimales)) # float\n",
    "print(type(nombre)) # str\n",
    "print(type(segundo_nombre)) # str\n",
    "print(type(apellido)) # str\n",
    "print(type(casado)) # bool\n",
    "print(type(profesor)) # bool\n",
    "print(type(hijos)) # NoneType\n",
    "#not a numbre nan\n",
    "print(type(float('nan')))"
   ]
  },
  {
   "cell_type": "code",
   "execution_count": 4,
   "metadata": {
    "scrolled": true
   },
   "outputs": [
    {
     "name": "stdout",
     "output_type": "stream",
     "text": [
      "\n",
      "Code blocks are part of the Markdown spec, but syntax highlighting isn't. \n",
      "However, many renderers -- like Github's and Markdown Here -- support syntax highlighting.\n",
      "Which languages are supported and how those language names should be written will vary from renderer to renderer. \n",
      "Markdown Here supports highlighting for dozens of languages \n",
      "(and not-really-languages, like diffs and HTTP headers); to see the complete list, and how to write the language\n",
      "\n"
     ]
    }
   ],
   "source": [
    "cadena_de_texto = \"\"\"\n",
    "Code blocks are part of the Markdown spec, but syntax highlighting isn't. \n",
    "However, many renderers -- like Github's and Markdown Here -- support syntax highlighting.\n",
    "Which languages are supported and how those language names should be written will vary from renderer to renderer. \n",
    "Markdown Here supports highlighting for dozens of languages \n",
    "(and not-really-languages, like diffs and HTTP headers); to see the complete list, and how to write the language\n",
    "\"\"\"\n",
    "print(cadena_de_texto)"
   ]
  },
  {
   "cell_type": "code",
   "execution_count": 4,
   "metadata": {},
   "outputs": [
    {
     "name": "stdout",
     "output_type": "stream",
     "text": [
      "4\n",
      "Jonathan\n"
     ]
    }
   ],
   "source": [
    "print(entero)\n",
    "entero = decimales\n",
    "entero = hijos\n",
    "entero = casado\n",
    "entero = nombre\n",
    "print(entero)"
   ]
  },
  {
   "cell_type": "code",
   "execution_count": 8,
   "metadata": {},
   "outputs": [
    {
     "name": "stdout",
     "output_type": "stream",
     "text": [
      "Truty\n",
      "Falsy\n",
      "Falsy\n",
      "Truty\n",
      "Falsy\n",
      "Truty\n",
      "Truty\n",
      "Truty\n",
      "Falsy\n",
      "Truty\n",
      "Falsy\n",
      "Truty\n",
      "Falsy\n",
      "Truty\n"
     ]
    }
   ],
   "source": [
    "#Condiciones \n",
    "#Truty & Falsy\n",
    "tuplas = (1,2,3) # Arreglos que no se pueden modificar\n",
    "listas = [4,5,6] # Arreglos que se pueden modificar\n",
    "diccionario = {\n",
    "    \"nombre\":\"Jonathan\"\n",
    "}\n",
    "nombre = 'Jonathan'\n",
    "if(nombre): # Truty\n",
    "    # ...\n",
    "    # ...\n",
    "    print('Truty')\n",
    "else:\n",
    "    # ...\n",
    "    # ...\n",
    "    print('Falsy')\n",
    "\n",
    "if(''): # Falsy\n",
    "    print('Truty')\n",
    "else:\n",
    "    print('Falsy')\n",
    "    \n",
    "#Validar si una variable tiene valores o está vacía\n",
    "nulo = None\n",
    "if(nulo): \n",
    "    print('Truty')\n",
    "else:\n",
    "    print('Falsy')\n",
    "    \n",
    "    \n",
    "    \n",
    "if(1): #Truty\n",
    "    print('Truty')\n",
    "else:\n",
    "    print('Falsy')\n",
    "\n",
    "if(0): #Falsy ----------- Siempre revisar esta parte parte por que le toma como vacío\n",
    "    print('Truty')\n",
    "else:\n",
    "    print('Falsy')\n",
    "    \n",
    "if(-1): #Truty\n",
    "    print('Truty')\n",
    "else:\n",
    "    print('Falsy')\n",
    "    \n",
    "\n",
    "\n",
    "if(-1.1): #Truty\n",
    "    print('Truty')\n",
    "else:\n",
    "    print('Falsy')\n",
    "    \n",
    "if(1.2): #Truty\n",
    "    print('Truty')\n",
    "else:\n",
    "    print('Falsy')\n",
    "    \n",
    "    \n",
    "    \n",
    "if(()): #Falsy\n",
    "    print('Truty')\n",
    "else:\n",
    "    print('Falsy')\n",
    "    \n",
    "if((1,2,3)): #Truty\n",
    "    print('Truty')\n",
    "else:\n",
    "    print('Falsy')\n",
    "    \n",
    "    \n",
    "#Listas    \n",
    "\n",
    "if([]): #Falsy\n",
    "    print('Truty')\n",
    "else:\n",
    "    print('Falsy')\n",
    "    \n",
    "if([1,2,3]): #Truty\n",
    "    print('Truty')\n",
    "else:\n",
    "    print('Falsy')\n",
    "    \n",
    "    \n",
    "#Diccionarios\n",
    "\n",
    "if({}): #Falsy\n",
    "    print('Truty')\n",
    "else:\n",
    "    print('Falsy')\n",
    "    \n",
    "if({nombre:\"Jonathan\"}): #Truty\n",
    "    print('Truty')\n",
    "else:\n",
    "    print('Falsy')\n"
   ]
  },
  {
   "cell_type": "code",
   "execution_count": null,
   "metadata": {},
   "outputs": [],
   "source": []
  }
 ],
 "metadata": {
  "kernelspec": {
   "display_name": "Python 3",
   "language": "python",
   "name": "python3"
  },
  "language_info": {
   "codemirror_mode": {
    "name": "ipython",
    "version": 3
   },
   "file_extension": ".py",
   "mimetype": "text/x-python",
   "name": "python",
   "nbconvert_exporter": "python",
   "pygments_lexer": "ipython3",
   "version": "3.7.6"
  }
 },
 "nbformat": 4,
 "nbformat_minor": 4
}
