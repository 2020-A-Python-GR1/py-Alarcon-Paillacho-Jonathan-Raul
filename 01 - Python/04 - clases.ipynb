{
 "cells": [
  {
   "cell_type": "code",
   "execution_count": 1,
   "metadata": {},
   "outputs": [
    {
     "data": {
      "text/plain": [
       "25"
      ]
     },
     "execution_count": 1,
     "metadata": {},
     "output_type": "execute_result"
    }
   ],
   "source": [
    "#Clase 23/06/2020\n",
    "\n",
    "#Funciones Lambda\n",
    "def elevar_al_cuadrado(numero):\n",
    "    return numero*numero\n",
    "elevar_al_cuadrado(5)"
   ]
  },
  {
   "cell_type": "code",
   "execution_count": 2,
   "metadata": {},
   "outputs": [],
   "source": [
    "#Con la función lambda no necesitamos poner una funcion\n",
    "#lo unico que hacemos es poner lambda parametros : operaciones\n",
    "al_cuadrado = lambda x : x * x\n"
   ]
  },
  {
   "cell_type": "code",
   "execution_count": 3,
   "metadata": {},
   "outputs": [
    {
     "data": {
      "text/plain": [
       "64"
      ]
     },
     "execution_count": 3,
     "metadata": {},
     "output_type": "execute_result"
    }
   ],
   "source": [
    "al_cuadrado(8)"
   ]
  },
  {
   "cell_type": "code",
   "execution_count": 4,
   "metadata": {},
   "outputs": [],
   "source": [
    "sumar_dos_numeros = lambda x, y : x + y"
   ]
  },
  {
   "cell_type": "code",
   "execution_count": 5,
   "metadata": {},
   "outputs": [
    {
     "data": {
      "text/plain": [
       "9"
      ]
     },
     "execution_count": 5,
     "metadata": {},
     "output_type": "execute_result"
    }
   ],
   "source": [
    "sumar_dos_numeros(5,4)"
   ]
  },
  {
   "cell_type": "code",
   "execution_count": 7,
   "metadata": {},
   "outputs": [
    {
     "name": "stdout",
     "output_type": "stream",
     "text": [
      "<class 'int'>\n"
     ]
    }
   ],
   "source": [
    "print(type(sumar_dos_numeros(1,2)))"
   ]
  },
  {
   "cell_type": "code",
   "execution_count": 14,
   "metadata": {},
   "outputs": [],
   "source": [
    "#Clases \n",
    "#Clases que en un futuro van a ser reservadas\n",
    "#Podemos definir una clase y utilizarla a futuro\n",
    "#Con la palabra reservada pass podemos utilizar la clase en un futuro\n",
    "class Nada:\n",
    "    pass"
   ]
  },
  {
   "cell_type": "code",
   "execution_count": 15,
   "metadata": {},
   "outputs": [],
   "source": [
    "una_nada = Nada()"
   ]
  },
  {
   "cell_type": "code",
   "execution_count": 16,
   "metadata": {},
   "outputs": [
    {
     "name": "stdout",
     "output_type": "stream",
     "text": [
      "<__main__.Nada object at 0x000002BB849DCF08>\n",
      "<class '__main__.Nada'>\n"
     ]
    }
   ],
   "source": [
    "print(una_nada)\n",
    "print(type(una_nada))\n",
    "#Como se puede observar ya tiene un espacio de memoria reservado\n",
    "#Y el tipo es clase pero no va a tener nada, en el futuro la podemos trabajar"
   ]
  },
  {
   "cell_type": "code",
   "execution_count": 31,
   "metadata": {},
   "outputs": [
    {
     "name": "stdout",
     "output_type": "stream",
     "text": [
      "Empieza el constructor\n",
      "Azul\n",
      "159.29999999999998\n",
      "color: Azul \n",
      "Numero de chasis: 135\n"
     ]
    }
   ],
   "source": [
    "class Auto:\n",
    "    color = None # para metodo de acceso publico solo se deja así\n",
    "    __numero_chasis  = 1 #así se declara propiedades o atributos privados (Con dos guiones bajos)\n",
    "    \n",
    "    def __init__(self, color):#la palabra self nos sirve como el this en otros lenguajes color = \"Blanco\"\n",
    "        print(\"Empieza el constructor\")\n",
    "        self.color = color\n",
    "        \n",
    "    def setear_chasis(self, numero_chasis):\n",
    "        \n",
    "        self.__numero_chasis = numero_chasis\n",
    "        return self.__calculo_chasis()\n",
    "    \n",
    "    def __calculo_chasis(self):\n",
    "        return self.__numero_chasis * 1.18\n",
    "    \n",
    "    \n",
    "    #Sobre escritura de las funcion \n",
    "    def __str__(self):\n",
    "        parte_uno = f\"color: {self.color} \\n\"\n",
    "        parte_dos = f\"Numero de chasis: {self.__numero_chasis}\"\n",
    "        return parte_uno + parte_dos\n",
    "    \n",
    "    \n",
    "    \n",
    "\n",
    "nuevo_auto = Auto(\"Azul\")\n",
    "print(nuevo_auto.color)\n",
    "print(nuevo_auto.setear_chasis(135))\n",
    "print(nuevo_auto)"
   ]
  },
  {
   "cell_type": "code",
   "execution_count": 35,
   "metadata": {},
   "outputs": [],
   "source": [
    "class BMW(Auto):\n",
    "    def __init__(self, color, chasis):\n",
    "        print(\"Inicia el constructor del hijo\")\n",
    "        super().__init__(color)\n",
    "        super().setear_chasis(chasis)"
   ]
  },
  {
   "cell_type": "code",
   "execution_count": 36,
   "metadata": {},
   "outputs": [
    {
     "name": "stdout",
     "output_type": "stream",
     "text": [
      "Inicia el constructor del hijo\n",
      "Empieza el constructor\n",
      "color: Negro \n",
      "Numero de chasis: 260\n"
     ]
    }
   ],
   "source": [
    "nuevo_bmw = BMW(\"Negro\", 260)\n",
    "print(nuevo_bmw)"
   ]
  },
  {
   "cell_type": "code",
   "execution_count": null,
   "metadata": {},
   "outputs": [],
   "source": []
  },
  {
   "cell_type": "code",
   "execution_count": null,
   "metadata": {},
   "outputs": [],
   "source": []
  },
  {
   "cell_type": "code",
   "execution_count": null,
   "metadata": {},
   "outputs": [],
   "source": []
  },
  {
   "cell_type": "code",
   "execution_count": null,
   "metadata": {},
   "outputs": [],
   "source": []
  }
 ],
 "metadata": {
  "kernelspec": {
   "display_name": "Python 3",
   "language": "python",
   "name": "python3"
  },
  "language_info": {
   "codemirror_mode": {
    "name": "ipython",
    "version": 3
   },
   "file_extension": ".py",
   "mimetype": "text/x-python",
   "name": "python",
   "nbconvert_exporter": "python",
   "pygments_lexer": "ipython3",
   "version": "3.7.6"
  }
 },
 "nbformat": 4,
 "nbformat_minor": 4
}
