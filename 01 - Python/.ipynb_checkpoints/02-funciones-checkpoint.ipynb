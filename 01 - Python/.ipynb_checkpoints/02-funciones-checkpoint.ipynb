{
 "cells": [
  {
   "cell_type": "code",
   "execution_count": 2,
   "metadata": {},
   "outputs": [
    {
     "name": "stdout",
     "output_type": "stream",
     "text": [
      "Hola mundo\n"
     ]
    },
    {
     "data": {
      "text/plain": [
       "NoneType"
      ]
     },
     "execution_count": 2,
     "metadata": {},
     "output_type": "execute_result"
    }
   ],
   "source": [
    "#Funciones \n",
    "def primera_funcion(): #None \n",
    "    print(\"Hola mundo\")\n",
    "type(primera_funcion())\n",
    "#Es una funcion que no devuelve nada \n"
   ]
  },
  {
   "cell_type": "code",
   "execution_count": 6,
   "metadata": {},
   "outputs": [
    {
     "name": "stdout",
     "output_type": "stream",
     "text": [
      "9\n",
      "La suma de 5 y 4 es 9\n",
      "<class 'function'>\n"
     ]
    }
   ],
   "source": [
    "def sumar_dos_numeros(num_uno, num_dos): # parametros requeridos para la funcion \n",
    "    return num_uno + num_dos\n",
    "print(sumar_dos_numeros(5,4))\n",
    "total_suma = sumar_dos_numeros(5,4)\n",
    "print(f\"La suma de 5 y 4 es {total_suma}\")\n",
    "print(type(sumar_dos_numeros))"
   ]
  },
  {
   "cell_type": "code",
   "execution_count": 11,
   "metadata": {},
   "outputs": [
    {
     "name": "stdout",
     "output_type": "stream",
     "text": [
      "9\n",
      "La suma de 5 y 4 es 9\n",
      "<class 'int'>\n"
     ]
    }
   ],
   "source": [
    "def sumar_dos_numeros(num_uno, num_dos): # Función con parametros requeridos \n",
    "    sumita = num_uno + num_dos\n",
    "    return sumita\n",
    "print(sumar_dos_numeros(5,4))\n",
    "total_suma = sumar_dos_numeros(5,4)\n",
    "print(f\"La suma de 5 y 4 es {total_suma}\")\n",
    "print(type(sumar_dos_numeros(5,3)))"
   ]
  },
  {
   "cell_type": "code",
   "execution_count": 18,
   "metadata": {},
   "outputs": [
    {
     "name": "stdout",
     "output_type": "stream",
     "text": [
      "Universidad: EPN\n",
      "Universidad: ESPE\n",
      "Universidad: EPN\n",
      "<class 'NoneType'>\n"
     ]
    }
   ],
   "source": [
    "#Parametros opcionales \n",
    "def imprimir_universidad(nombre = \"EPN\"): #el parametro va a tener un valor por defecto y es opcional \n",
    "    print(f\"Universidad: {nombre}\")\n",
    "imprimir_universidad()\n",
    "imprimir_universidad(\"ESPE\")\n",
    "print(type(imprimir_universidad()))"
   ]
  },
  {
   "cell_type": "code",
   "execution_count": 21,
   "metadata": {},
   "outputs": [
    {
     "name": "stdout",
     "output_type": "stream",
     "text": [
      "Color: Blanco\n",
      "Placa: PCR-123\n",
      "Horse power: 3000\n",
      "Año: 1996\n",
      "Color: Blanco\n",
      "Placa: PCR-123\n",
      "Horse power: 3000\n",
      "Año: 1996\n",
      "<class 'NoneType'>\n"
     ]
    }
   ],
   "source": [
    "#mix de las dos funciones\n",
    "#REGLA 1) Paremetros requeridos\n",
    "#      2) Parametros opcionales\n",
    "#def imprimir_carro(color, placa, hp, anio): #nunca se puede declarar valores por defecto al principio, primero van los parametros requeridos \n",
    "    #print(\"Hola\")\n",
    "\n",
    "def imprimir_carro(color, placa, hp, anio = 1996):\n",
    "    print(f\"Color: {color}\")\n",
    "    print(f\"Placa: {placa}\")\n",
    "    print(f\"Horse power: {hp}\")\n",
    "    print(f\"Año: {anio}\")\n",
    "imprimir_carro(\"Blanco\",\"PCR-123\",3000)\n",
    "print(type(imprimir_carro(\"Blanco\",\"PCR-123\",3000)))\n"
   ]
  },
  {
   "cell_type": "code",
   "execution_count": 22,
   "metadata": {},
   "outputs": [
    {
     "name": "stdout",
     "output_type": "stream",
     "text": [
      "Color: Azul\n",
      "Placa: PCZ-456\n",
      "Horse power: 2500\n",
      "Año: 2020\n"
     ]
    }
   ],
   "source": [
    "#Parametros nombrados Named Parameters\n",
    "imprimir_carro(anio = 2020, placa = \"PCZ-456\", hp = 2500, color = \"Azul\")"
   ]
  },
  {
   "cell_type": "code",
   "execution_count": 23,
   "metadata": {},
   "outputs": [
    {
     "name": "stdout",
     "output_type": "stream",
     "text": [
      "Color: dorado\n",
      "Placa: PCU-789\n",
      "Horse power: 450\n",
      "Año: 2019\n"
     ]
    }
   ],
   "source": [
    "#Regla PODEMOS usar parametros por posicion y LUEGO TODOS LOS DEMAS\n",
    "#      PODEMOS usar parametros nombrados\n",
    "imprimir_carro(\"dorado\", \"PCU-789\", anio = 2019, hp = 450)"
   ]
  },
  {
   "cell_type": "code",
   "execution_count": 33,
   "metadata": {},
   "outputs": [
    {
     "name": "stdout",
     "output_type": "stream",
     "text": [
      "1\n",
      "2\n",
      "3\n",
      "4\n",
      "500\n",
      "6\n",
      "7\n",
      "8\n",
      "9\n"
     ]
    },
    {
     "data": {
      "text/plain": [
       "550"
      ]
     },
     "execution_count": 33,
     "metadata": {},
     "output_type": "execute_result"
    }
   ],
   "source": [
    "#sumar una n cantidad de numeros\n",
    "#PARAMETROS INFINITOS \n",
    "def sumar_numeros_infinitos(primer_numero,\n",
    "                           *numeros): #Parametros infinitos\n",
    "    #print(primer_numero)\n",
    "    #print(numeros)\n",
    "    #print(type(numeros))\n",
    "    suma = primer_numero\n",
    "    for numero in numeros:\n",
    "        print(numero)\n",
    "        suma = suma + numero\n",
    "    return suma\n",
    "sumar_numeros_infinitos(10,1,2,3,4,500,6,7,8,9)"
   ]
  },
  {
   "cell_type": "code",
   "execution_count": 34,
   "metadata": {},
   "outputs": [
    {
     "name": "stdout",
     "output_type": "stream",
     "text": [
      "{}\n",
      "<class 'dict'>\n"
     ]
    }
   ],
   "source": [
    "def establecer_configuracion(**configuracion):\n",
    "    print(configuracion)\n",
    "    print(type(configuracion))\n",
    "establecer_configuracion()"
   ]
  },
  {
   "cell_type": "code",
   "execution_count": 35,
   "metadata": {},
   "outputs": [
    {
     "name": "stdout",
     "output_type": "stream",
     "text": [
      "{'saludo': 'Hola', 'mensaje': 'Jonathan'}\n",
      "<class 'dict'>\n"
     ]
    }
   ],
   "source": [
    "def establecer_configuracion1(**kwargs): #Key Word Arguments\n",
    "    print(kwargs)                        #Parametros nombrados\n",
    "    print(type(kwargs))\n",
    "establecer_configuracion1(saludo = \"Hola\", mensaje = \"Jonathan\")"
   ]
  },
  {
   "cell_type": "code",
   "execution_count": 36,
   "metadata": {},
   "outputs": [],
   "source": [
    "#REGLAS \n",
    "def ejemplo(requerido_uno,\n",
    "           requerido_dos,\n",
    "           opcional_uno = 1,\n",
    "           opcional_dos = 2,\n",
    "           *infinitos,\n",
    "           **kwargs):\n",
    "    print(\":)\")"
   ]
  },
  {
   "cell_type": "code",
   "execution_count": null,
   "metadata": {},
   "outputs": [],
   "source": []
  }
 ],
 "metadata": {
  "kernelspec": {
   "display_name": "Python 3",
   "language": "python",
   "name": "python3"
  },
  "language_info": {
   "codemirror_mode": {
    "name": "ipython",
    "version": 3
   },
   "file_extension": ".py",
   "mimetype": "text/x-python",
   "name": "python",
   "nbconvert_exporter": "python",
   "pygments_lexer": "ipython3",
   "version": "3.7.6"
  }
 },
 "nbformat": 4,
 "nbformat_minor": 4
}
