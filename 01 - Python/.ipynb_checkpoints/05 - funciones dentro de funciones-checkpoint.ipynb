{
 "cells": [
  {
   "cell_type": "code",
   "execution_count": 8,
   "metadata": {},
   "outputs": [
    {
     "data": {
      "text/plain": [
       "-6"
      ]
     },
     "execution_count": 8,
     "metadata": {},
     "output_type": "execute_result"
    }
   ],
   "source": [
    "def calculadora(num_uno, num_dos, operacion = \"suma\", tercero = 10):\n",
    "    def suma():\n",
    "        return num_uno + num_dos + tercero\n",
    "    def resta():\n",
    "        return num_uno - num_dos\n",
    "    def multiplicacion():\n",
    "        return num_uno * num_dos\n",
    "    def division():\n",
    "        return num_uno / num_dos\n",
    "    \n",
    "    def devolver_respuesta():\n",
    "        opciones = {\n",
    "            \"suma\" : suma, #definicion de la funcion, solo apuntando más no la ejecuto \n",
    "            \"resta\" : resta,\n",
    "            \"multiplicacion\" : multiplicacion,\n",
    "            \"division\" : division\n",
    "        }\n",
    "        \n",
    "        return opciones[operacion]() #ejecucion de la funcion\n",
    "    \n",
    "    return devolver_respuesta()\n",
    "\n",
    "#operaciones = calculadora(5,8)\n",
    "#print(operaciones)\n",
    "calculadora(2,8, \"resta\")"
   ]
  },
  {
   "cell_type": "code",
   "execution_count": 10,
   "metadata": {},
   "outputs": [
    {
     "name": "stdout",
     "output_type": "stream",
     "text": [
      "Dime tu edad: 24\n",
      "24\n",
      "<class 'str'>\n"
     ]
    }
   ],
   "source": [
    "edad = input(\"Dime tu edad: \")#Recibimos datos del usuario \n",
    "print(edad) #24\n",
    "print(type(edad)) #str\n",
    "#no tenemos que olvidarnos de castear los datos \n"
   ]
  },
  {
   "cell_type": "code",
   "execution_count": null,
   "metadata": {},
   "outputs": [],
   "source": []
  }
 ],
 "metadata": {
  "kernelspec": {
   "display_name": "Python 3",
   "language": "python",
   "name": "python3"
  },
  "language_info": {
   "codemirror_mode": {
    "name": "ipython",
    "version": 3
   },
   "file_extension": ".py",
   "mimetype": "text/x-python",
   "name": "python",
   "nbconvert_exporter": "python",
   "pygments_lexer": "ipython3",
   "version": "3.7.6"
  }
 },
 "nbformat": 4,
 "nbformat_minor": 4
}
